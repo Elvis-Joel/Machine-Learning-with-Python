{
 "cells": [
  {
   "cell_type": "markdown",
   "metadata": {
    "colab_type": "text",
    "id": "mw2VBrBcgvGa"
   },
   "source": [
    "# Predicción de Precios de una casa\n",
    "##  Creado por [M.Sc. Ruben Quispe](https://machinelearningmastery.com/tutorial-to-implement-k-nearest-neighbors-in-python-from-scratch/)\n",
    "### Curso [Machine Learning](https://eie.pe/curso-machine-learning/)\n",
    "En este **LAB_01**, intentará construir una red neuronal que prediga el precio de una casa de acuerdo con una fórmula simple.\n",
    "\n",
    "Entonces, imagínese si el precio de la casa fuera tan fácil como que una casa cuesta 50k + 50k por habitación, de modo que una casa de 1 habitación cuesta 100k, una casa de 2 habitaciones cuesta 150k, una casa con 3 habitacciones cuesta 200k, etc.\n",
    "\n",
    "\n",
    "¿Cómo crearía una red neuronal que aprenda esta relación para predecir que una casa de 11 habitaciones cuesta cerca de 600k, etc.?\n",
    "\n",
    "Sugerencia: su red podría funcionar mejor si reduce el precio de la vivienda. No tiene que dar la respuesta 600 ... podría ser mejor crear algo que prediga el número 6, y luego su respuesta está en los 'cientos de miles', etc."
   ]
  },
  {
   "cell_type": "code",
   "execution_count": null,
   "metadata": {
    "colab": {},
    "colab_type": "code",
    "id": "PUNO2E6SeURH"
   },
   "outputs": [],
   "source": [
    "import tensorflow as tf\n",
    "import numpy as np\n",
    "from tensorflow import keras\n",
    "model = # Your Code Here#\n",
    "model.compile(# Your Code Here#)\n",
    "xs = # Your Code Here#\n",
    "ys = # Your Code Here#\n",
    "model.fit(# Your Code here#)\n",
    "print(model.predict([11.0]))"
   ]
  }
 ],
 "metadata": {
  "colab": {
   "name": "Exercise_1_House_Prices_Question.ipynb",
   "provenance": []
  },
  "kernelspec": {
   "display_name": "Python 3",
   "language": "python",
   "name": "python3"
  },
  "language_info": {
   "codemirror_mode": {
    "name": "ipython",
    "version": 3
   },
   "file_extension": ".py",
   "mimetype": "text/x-python",
   "name": "python",
   "nbconvert_exporter": "python",
   "pygments_lexer": "ipython3",
   "version": "3.8.5"
  }
 },
 "nbformat": 4,
 "nbformat_minor": 1
}
